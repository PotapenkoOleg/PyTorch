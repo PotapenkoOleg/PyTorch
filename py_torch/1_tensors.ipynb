{
 "cells": [
  {
   "cell_type": "code",
   "execution_count": 1,
   "id": "1b3f2798",
   "metadata": {},
   "outputs": [],
   "source": [
    "# https://github.com/udacity/cd0281-Introduction-to-Neural-Networks-with-PyTorch/tree/master/deep-learning-with-pytorch"
   ]
  },
  {
   "cell_type": "code",
   "execution_count": null,
   "id": "d059ad67",
   "metadata": {},
   "outputs": [],
   "source": []
  }
 ],
 "metadata": {
  "kernelspec": {
   "display_name": ".venv",
   "language": "python",
   "name": "python3"
  },
  "language_info": {
   "codemirror_mode": {
    "name": "ipython",
    "version": 3
   },
   "file_extension": ".py",
   "mimetype": "text/x-python",
   "name": "python",
   "nbconvert_exporter": "python",
   "pygments_lexer": "ipython3",
   "version": "3.12.3"
  }
 },
 "nbformat": 4,
 "nbformat_minor": 5
}
